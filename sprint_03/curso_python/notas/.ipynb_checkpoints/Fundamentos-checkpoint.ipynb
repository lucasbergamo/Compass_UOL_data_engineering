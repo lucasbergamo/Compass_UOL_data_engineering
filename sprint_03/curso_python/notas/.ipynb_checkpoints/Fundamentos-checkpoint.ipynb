{
 "cells": [
  {
   "cell_type": "code",
   "execution_count": 8,
   "id": "861d030e",
   "metadata": {},
   "outputs": [
    {
     "name": "stdout",
     "output_type": "stream",
     "text": [
      "primeiro programa\n"
     ]
    },
    {
     "data": {
      "text/plain": [
       "3"
      ]
     },
     "execution_count": 8,
     "metadata": {},
     "output_type": "execute_result"
    }
   ],
   "source": [
    "print('primeiro programa')\n",
    "1 \\\n",
    " + 2"
   ]
  },
  {
   "cell_type": "code",
   "execution_count": 15,
   "id": "7779b056",
   "metadata": {},
   "outputs": [
    {
     "name": "stdout",
     "output_type": "stream",
     "text": [
      "True\n",
      "False\n",
      "2.2\n",
      "Você é muito muito muito Legal.\n",
      "[1, 2, 3]\n",
      "{'nome': 'Pedro', 'idade': 22}\n",
      "None\n"
     ]
    }
   ],
   "source": [
    "print(True)\n",
    "print(False)\n",
    "print(1.2 + 1)\n",
    "print('Você é ' + 3 * 'muito ' + 'Legal.')\n",
    "print([1, 2, 3])\n",
    "print({'nome': 'Pedro', 'idade': 22})\n",
    "print(None)"
   ]
  },
  {
   "cell_type": "markdown",
   "id": "17236196",
   "metadata": {},
   "source": [
    "Operadores Aritméticos"
   ]
  },
  {
   "cell_type": "code",
   "execution_count": 36,
   "id": "770c7236",
   "metadata": {},
   "outputs": [
    {
     "name": "stdout",
     "output_type": "stream",
     "text": [
      "5\n",
      "-3\n",
      "10.6\n",
      "3.1333333333333333\n",
      "3.0\n",
      "64\n",
      "1\n"
     ]
    }
   ],
   "source": [
    "print(2 + 3)\n",
    "print(4 - 7)\n",
    "print(2 * 5.3)\n",
    "print(9.4 / 3)\n",
    "print(9.4 // 3)\n",
    "print(8 ** 2)\n",
    "print(10 % 3)"
   ]
  },
  {
   "cell_type": "code",
   "execution_count": 49,
   "id": "13638161",
   "metadata": {},
   "outputs": [
    {
     "name": "stdout",
     "output_type": "stream",
     "text": [
      "As despesas equivalem: 71.0 %\n"
     ]
    }
   ],
   "source": [
    "salario = 3450.45\n",
    "despesas = 2456.2\n",
    "porcentagem_salario = despesas * 100 // salario\n",
    "print('As despesas equivalem:', porcentagem_salario,'% do Salário')"
   ]
  },
  {
   "cell_type": "code",
   "execution_count": 23,
   "id": "56d7a094",
   "metadata": {},
   "outputs": [
    {
     "name": "stdout",
     "output_type": "stream",
     "text": [
      "sou uma string 5\n"
     ]
    }
   ],
   "source": [
    "a = 'sou uma string '\n",
    "b = '5'\n",
    "print(a + b)"
   ]
  },
  {
   "cell_type": "code",
   "execution_count": 35,
   "id": "08de5998",
   "metadata": {},
   "outputs": [
    {
     "name": "stdout",
     "output_type": "stream",
     "text": [
      "7\n"
     ]
    }
   ],
   "source": [
    "x = 7\n",
    "y = 8\n",
    "\n",
    "print(--x)"
   ]
  }
 ],
 "metadata": {
  "kernelspec": {
   "display_name": "Python 3 (ipykernel)",
   "language": "python",
   "name": "python3"
  },
  "language_info": {
   "codemirror_mode": {
    "name": "ipython",
    "version": 3
   },
   "file_extension": ".py",
   "mimetype": "text/x-python",
   "name": "python",
   "nbconvert_exporter": "python",
   "pygments_lexer": "ipython3",
   "version": "3.11.3"
  }
 },
 "nbformat": 4,
 "nbformat_minor": 5
}
