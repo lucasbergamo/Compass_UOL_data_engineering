{
 "cells": [
  {
   "cell_type": "code",
   "execution_count": 8,
   "id": "c2e9ff49",
   "metadata": {},
   "outputs": [
    {
     "name": "stdout",
     "output_type": "stream",
     "text": [
      "primeiro programa\n"
     ]
    },
    {
     "data": {
      "text/plain": [
       "3"
      ]
     },
     "execution_count": 8,
     "metadata": {},
     "output_type": "execute_result"
    }
   ],
   "source": [
    "print('primeiro programa')\n",
    "1 \\\n",
    " + 2"
   ]
  },
  {
   "cell_type": "code",
   "execution_count": 15,
   "id": "8d4da337",
   "metadata": {},
   "outputs": [
    {
     "name": "stdout",
     "output_type": "stream",
     "text": [
      "True\n",
      "False\n",
      "2.2\n",
      "Você é muito muito muito Legal.\n",
      "[1, 2, 3]\n",
      "{'nome': 'Pedro', 'idade': 22}\n",
      "None\n"
     ]
    }
   ],
   "source": [
    "print(True)\n",
    "print(False)\n",
    "print(1.2 + 1)\n",
    "print('Você é ' + 3 * 'muito ' + 'Legal.')\n",
    "print([1, 2, 3])\n",
    "print({'nome': 'Pedro', 'idade': 22})\n",
    "print(None)"
   ]
  },
  {
   "cell_type": "markdown",
   "id": "d8fc4a0d",
   "metadata": {},
   "source": [
    "Operadores Aritméticos"
   ]
  },
  {
   "cell_type": "code",
   "execution_count": 36,
   "id": "3db0d188",
   "metadata": {},
   "outputs": [
    {
     "name": "stdout",
     "output_type": "stream",
     "text": [
      "5\n",
      "-3\n",
      "10.6\n",
      "3.1333333333333333\n",
      "3.0\n",
      "64\n",
      "1\n"
     ]
    }
   ],
   "source": [
    "print(2 + 3)\n",
    "print(4 - 7)\n",
    "print(2 * 5.3)\n",
    "print(9.4 / 3)\n",
    "print(9.4 // 3)\n",
    "print(8 ** 2)\n",
    "print(10 % 3)"
   ]
  },
  {
   "cell_type": "code",
   "execution_count": 50,
   "id": "bf10a641",
   "metadata": {},
   "outputs": [
    {
     "name": "stdout",
     "output_type": "stream",
     "text": [
      "As despesas equivalem: 71.0 % do Salário\n"
     ]
    }
   ],
   "source": [
    "salario = 3450.45\n",
    "despesas = 2456.2\n",
    "porcentagem_salario = despesas * 100 // salario\n",
    "print('As despesas equivalem:', porcentagem_salario,'% do Salário')"
   ]
  },
  {
   "cell_type": "code",
   "execution_count": 23,
   "id": "320ed2be",
   "metadata": {},
   "outputs": [
    {
     "name": "stdout",
     "output_type": "stream",
     "text": [
      "sou uma string 5\n"
     ]
    }
   ],
   "source": [
    "a = 'sou uma string '\n",
    "b = '5'\n",
    "print(a + b)"
   ]
  },
  {
   "cell_type": "code",
   "execution_count": 61,
   "id": "ec3329e8",
   "metadata": {},
   "outputs": [
    {
     "name": "stdout",
     "output_type": "stream",
     "text": [
      "12\n"
     ]
    }
   ],
   "source": [
    "a = 7\n",
    "y = 8\n",
    "a += 5\n",
    "print(a)\n"
   ]
  },
  {
   "cell_type": "code",
   "execution_count": 99,
   "id": "c09f892d",
   "metadata": {},
   "outputs": [
    {
     "name": "stdout",
     "output_type": "stream",
     "text": [
      "False\n"
     ]
    }
   ],
   "source": [
    "saldo = 1000\n",
    "salario = 4000\n",
    "despesas = 2967\n",
    "despesas = 3967\n",
    "\n",
    "meta = saldo > 0 and salario - despesas >= 0.2 * salario\n",
    "print(meta)\n"
   ]
  },
  {
   "cell_type": "code",
   "execution_count": 122,
   "id": "198b57c1",
   "metadata": {},
   "outputs": [
    {
     "name": "stdout",
     "output_type": "stream",
     "text": [
      "True\n",
      "False\n",
      "True\n",
      "False\n"
     ]
    }
   ],
   "source": [
    "trabalho_terca = True\n",
    "trabalho_quinta = True\n",
    "\n",
    "tv_50 = trabalho_terca and trabalho_quinta\n",
    "\n",
    "tv_32 = trabalho_terca != trabalho_quinta\n",
    "\n",
    "tomar_sorvete = tv_50 or tv_32\n",
    "\n",
    "nao_trabalhou = not tomar_sorvete\n",
    "\n",
    "\n",
    "print(tv_50)\n",
    "print (tv_32)\n",
    "print(tomar_sorvete)\n",
    "print(nao_trabalhou)"
   ]
  },
  {
   "cell_type": "code",
   "execution_count": 124,
   "id": "abbefcb1",
   "metadata": {},
   "outputs": [
    {
     "name": "stdout",
     "output_type": "stream",
     "text": [
      "Tv50=False Tv32True Sorvete=True Saudável =False\n"
     ]
    }
   ],
   "source": [
    "trabalho_terca = False\n",
    "trabalho_quinta = True\n",
    "\n",
    "tv_50 = trabalho_terca and trabalho_quinta\n",
    "sorvete = trabalho_terca or trabalho_quinta\n",
    "tv_32 = trabalho_terca != trabalho_quinta #xor\n",
    "mais_saudavel = not sorvete\n",
    "\n",
    "print(\"Tv50={} Tv32{} Sorvete={} Saudável ={}\"\n",
    "      .format(tv_50, tv_32, sorvete, mais_saudavel))"
   ]
  },
  {
   "cell_type": "code",
   "execution_count": 127,
   "id": "906c912b",
   "metadata": {},
   "outputs": [
    {
     "name": "stdout",
     "output_type": "stream",
     "text": [
      "2\n"
     ]
    }
   ],
   "source": [
    "a = 3\n",
    "a -= 1\n",
    "\n",
    "print(a)"
   ]
  },
  {
   "cell_type": "code",
   "execution_count": 131,
   "id": "c832958d",
   "metadata": {},
   "outputs": [
    {
     "data": {
      "text/plain": [
       "'Hoje estou com as roupas secas.'"
      ]
     },
     "execution_count": 131,
     "metadata": {},
     "output_type": "execute_result"
    }
   ],
   "source": [
    "esta_chuvendo = False\n",
    "\n",
    "'Hoje estou com as roupas ' + ('secas.', 'molhadas.')[esta_chuvendo]"
   ]
  },
  {
   "cell_type": "code",
   "execution_count": 133,
   "id": "324cc984",
   "metadata": {},
   "outputs": [
    {
     "data": {
      "text/plain": [
       "int"
      ]
     },
     "execution_count": 133,
     "metadata": {},
     "output_type": "execute_result"
    }
   ],
   "source": [
    "\n",
    "\n",
    "\n"
   ]
  }
 ],
 "metadata": {
  "kernelspec": {
   "display_name": "Python 3 (ipykernel)",
   "language": "python",
   "name": "python3"
  },
  "language_info": {
   "codemirror_mode": {
    "name": "ipython",
    "version": 3
   },
   "file_extension": ".py",
   "mimetype": "text/x-python",
   "name": "python",
   "nbconvert_exporter": "python",
   "pygments_lexer": "ipython3",
   "version": "3.11.3"
  }
 },
 "nbformat": 4,
 "nbformat_minor": 5
}
