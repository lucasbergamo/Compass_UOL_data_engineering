{
 "cells": [
  {
   "cell_type": "code",
   "execution_count": 1,
   "id": "b8a9533e-d33c-4a95-9bd2-0c31e2786517",
   "metadata": {},
   "outputs": [
    {
     "name": "stderr",
     "output_type": "stream",
     "text": [
      "23/11/07 21:51:36 WARN Utils: Your hostname, DESKTOP-TCH95BD resolves to a loopback address: 127.0.1.1; using 192.168.233.120 instead (on interface eth0)\n",
      "23/11/07 21:51:36 WARN Utils: Set SPARK_LOCAL_IP if you need to bind to another address\n",
      "Setting default log level to \"WARN\".\n",
      "To adjust logging level use sc.setLogLevel(newLevel). For SparkR, use setLogLevel(newLevel).\n",
      "23/11/07 21:51:39 WARN NativeCodeLoader: Unable to load native-hadoop library for your platform... using builtin-java classes where applicable\n"
     ]
    }
   ],
   "source": [
    "import findspark\n",
    "findspark.init()\n",
    "from pyspark.sql import SparkSession\n",
    "from pyspark.sql.functions import col\n",
    "spark = SparkSession.builder.appName(\"MyApp\").getOrCreate()"
   ]
  },
  {
   "cell_type": "code",
   "execution_count": null,
   "id": "28bda818-3544-4896-a612-b2237d0e4d17",
   "metadata": {},
   "outputs": [],
   "source": []
  },
  {
   "cell_type": "code",
   "execution_count": null,
   "id": "3bc5d200-4fdb-4344-a11a-65aa02df0546",
   "metadata": {},
   "outputs": [],
   "source": [
    "# Infos fato_Filmes"
   ]
  },
  {
   "cell_type": "code",
   "execution_count": null,
   "id": "f35b467e-a256-46ff-b0b5-3cc41d3e6dde",
   "metadata": {},
   "outputs": [],
   "source": []
  },
  {
   "cell_type": "code",
   "execution_count": 4,
   "id": "8827fbf9-abb0-4d3c-8148-9b31927bcbd8",
   "metadata": {},
   "outputs": [
    {
     "name": "stdout",
     "output_type": "stream",
     "text": [
      "root\n",
      " |-- id_filme: string (nullable = true)\n",
      " |-- id_nome: string (nullable = true)\n",
      " |-- titulo: string (nullable = true)\n",
      " |-- lancamento: string (nullable = true)\n",
      " |-- duracao_filme: string (nullable = true)\n",
      " |-- genero: string (nullable = true)\n",
      "\n",
      "+---------+---------+--------------------+----------+-------------+--------------------+\n",
      "| id_filme|  id_nome|              titulo|lancamento|duracao_filme|              genero|\n",
      "+---------+---------+--------------------+----------+-------------+--------------------+\n",
      "|tt0063803|nm0000217|Who's That Knocki...|      1967|           90|               Drama|\n",
      "|tt0063803|nm1058895|Who's That Knocki...|      1967|           90|               Drama|\n",
      "|tt0068309|nm0718639|       Boxcar Bertha|      1972|           88| Crime,Drama,Romance|\n",
      "|tt0068309|nm0181020|       Boxcar Bertha|      1972|           88| Crime,Drama,Romance|\n",
      "|tt0068309|nm0181019|       Boxcar Bertha|      1972|           88| Crime,Drama,Romance|\n",
      "|tt0070379|nm0000217|        Mean Streets|      1973|          112|Crime,Drama,Thriller|\n",
      "|tt0070379|nm0552731|        Mean Streets|      1973|          112|Crime,Drama,Thriller|\n",
      "|tt0071115|nm0315205|Alice Doesn't Liv...|      1974|          112|       Drama,Romance|\n",
      "|tt0075314|nm0001707|         Taxi Driver|      1976|          114|         Crime,Drama|\n",
      "|tt0076451|nm0711996|  New York, New York|      1977|          155| Drama,Music,Musical|\n",
      "+---------+---------+--------------------+----------+-------------+--------------------+\n",
      "only showing top 10 rows\n",
      "\n",
      "O DataFrame tem 6 colunas.\n",
      "O DataFrame tem 49 linhas (dados).\n"
     ]
    }
   ],
   "source": [
    "fatos_filmes = spark.read.parquet(\"file:/home/hadoop/imdb/refined/fato_filmes/*.parquet\")\n",
    "fatos_filmes.printSchema()\n",
    "fatos_filmes.show(10)\n",
    "contagem_de_dados = fatos_filmes.count()\n",
    "contagem_de_colunas = len(fatos_filmes.columns)\n",
    "\n",
    "# contagem de colunas\n",
    "print(f\"O DataFrame tem {contagem_de_colunas} colunas.\")\n",
    "\n",
    "# contagem de linhas\n",
    "print(f\"O DataFrame tem {contagem_de_dados} linhas (dados).\")"
   ]
  },
  {
   "cell_type": "code",
   "execution_count": 3,
   "id": "d0482cbe-885a-4148-b796-159c0a4fdc1e",
   "metadata": {},
   "outputs": [
    {
     "name": "stdout",
     "output_type": "stream",
     "text": [
      "root\n",
      " |-- id_filme: string (nullable = true)\n",
      " |-- tipo: string (nullable = true)\n",
      " |-- titulo: string (nullable = true)\n",
      " |-- titulo_original: string (nullable = true)\n",
      " |-- adulto: string (nullable = true)\n",
      " |-- lancamento: string (nullable = true)\n",
      " |-- fim_lancamento: string (nullable = true)\n",
      " |-- duracao_filme: string (nullable = true)\n",
      " |-- genero: string (nullable = true)\n",
      "\n",
      "+---------+-----+--------------------+--------------------+------+----------+--------------+-------------+---------------+\n",
      "| id_filme| tipo|              titulo|     titulo_original|adulto|lancamento|fim_lancamento|duracao_filme|         genero|\n",
      "+---------+-----+--------------------+--------------------+------+----------+--------------+-------------+---------------+\n",
      "|tt0000591|movie|    The Prodigal Son|   L'enfant prodigue|     0|      1907|            \\N|           90|          Drama|\n",
      "|tt0000615|movie|  Robbery Under Arms|  Robbery Under Arms|     0|      1907|            \\N|           \\N|          Drama|\n",
      "|tt0000630|movie|              Hamlet|              Amleto|     0|      1908|            \\N|           \\N|          Drama|\n",
      "|tt0000675|movie|         Don Quijote|         Don Quijote|     0|      1908|            \\N|           \\N|          Drama|\n",
      "|tt0000886|movie|Hamlet, Prince of...|              Hamlet|     0|      1910|            \\N|           \\N|          Drama|\n",
      "|tt0000941|movie|      Locura de amor|      Locura de amor|     0|      1909|            \\N|           45|          Drama|\n",
      "|tt0001049|movie|      Gøngehøvdingen|      Gøngehøvdingen|     0|      1909|            \\N|           \\N|      Drama,War|\n",
      "|tt0001112|movie|              Amleto|              Amleto|     0|      1910|            \\N|           \\N|          Drama|\n",
      "|tt0001175|movie|             Camille|La dame aux camélias|     0|      1912|            \\N|           \\N|  Drama,Romance|\n",
      "|tt0001184|movie|Don Juan de Serra...|Don Juan de Serra...|     0|      1910|            \\N|           58|Adventure,Drama|\n",
      "+---------+-----+--------------------+--------------------+------+----------+--------------+-------------+---------------+\n",
      "only showing top 10 rows\n",
      "\n",
      "O DataFrame tem 9 colunas.\n",
      "O DataFrame tem 238636 linhas (dados).\n"
     ]
    }
   ],
   "source": [
    "basicos_filmes = spark.read.parquet(\"file:/home/hadoop/imdb/parquet/basico_filmes_drama/2023/11/01/*.parquet\")\n",
    "basicos_filmes.printSchema()\n",
    "basicos_filmes.show(10)\n",
    "contagem_de_dados = basicos_filmes.count()\n",
    "contagem_de_colunas = len(basicos_filmes.columns)\n",
    "\n",
    "# contagem de colunas\n",
    "print(f\"O DataFrame tem {contagem_de_colunas} colunas.\")\n",
    "\n",
    "# contagem de linhas\n",
    "print(f\"O DataFrame tem {contagem_de_dados} linhas (dados).\")"
   ]
  },
  {
   "cell_type": "code",
   "execution_count": null,
   "id": "3930ca7d-5022-47ab-937b-1ae0c03083e7",
   "metadata": {},
   "outputs": [],
   "source": []
  },
  {
   "cell_type": "code",
   "execution_count": null,
   "id": "ad0a69d1-e675-4d71-9749-b16b32b25e43",
   "metadata": {},
   "outputs": [],
   "source": [
    "# Infos Diretores e Escritores"
   ]
  },
  {
   "cell_type": "code",
   "execution_count": null,
   "id": "56af7f16-27dd-4de4-b83d-1550532f311a",
   "metadata": {},
   "outputs": [],
   "source": []
  },
  {
   "cell_type": "code",
   "execution_count": 3,
   "id": "bdbdec14-62bc-48ba-be26-d06c42a12c1a",
   "metadata": {},
   "outputs": [
    {
     "name": "stdout",
     "output_type": "stream",
     "text": [
      "root\n",
      " |-- id_filme: string (nullable = true)\n",
      " |-- diretores: string (nullable = true)\n",
      " |-- escritores: string (nullable = true)\n",
      "\n"
     ]
    },
    {
     "name": "stderr",
     "output_type": "stream",
     "text": [
      "[Stage 11:======================================>                   (2 + 1) / 3]\r"
     ]
    },
    {
     "name": "stdout",
     "output_type": "stream",
     "text": [
      "+---------+-------------------+----------+\n",
      "| id_filme|          diretores|escritores|\n",
      "+---------+-------------------+----------+\n",
      "|tt0000001|          nm0005690|        \\N|\n",
      "|tt0000002|          nm0721526|        \\N|\n",
      "|tt0000003|          nm0721526|        \\N|\n",
      "|tt0000004|          nm0721526|        \\N|\n",
      "|tt0000005|          nm0005690|        \\N|\n",
      "|tt0000006|          nm0005690|        \\N|\n",
      "|tt0000007|nm0005690,nm0374658|        \\N|\n",
      "|tt0000008|          nm0005690|        \\N|\n",
      "|tt0000009|          nm0085156| nm0085156|\n",
      "|tt0000010|          nm0525910|        \\N|\n",
      "+---------+-------------------+----------+\n",
      "only showing top 10 rows\n",
      "\n",
      "O DataFrame tem 3 colunas.\n",
      "O DataFrame tem 10265844 linhas (dados).\n"
     ]
    },
    {
     "name": "stderr",
     "output_type": "stream",
     "text": [
      "                                                                                \r"
     ]
    }
   ],
   "source": [
    "diretores_escritores = spark.read.parquet(\"file:/home/hadoop/imdb/parquet/diretores_escritores/2023/11/01/*.parquet\")\n",
    "\n",
    "contagem_de_dados = diretores_escritores.count()\n",
    "contagem_de_colunas = len(diretores_escritores.columns)\n",
    "\n",
    "diretores_escritores.printSchema()\n",
    "diretores_escritores.show(10)\n",
    "\n",
    "# contagem de colunas\n",
    "print(f\"O DataFrame tem {contagem_de_colunas} colunas.\")\n",
    "\n",
    "# contagem de linhas\n",
    "print(f\"O DataFrame tem {contagem_de_dados} linhas (dados).\")"
   ]
  },
  {
   "cell_type": "code",
   "execution_count": null,
   "id": "c86f342a-cfcd-4bed-a341-28a65e7f7edf",
   "metadata": {},
   "outputs": [],
   "source": []
  },
  {
   "cell_type": "code",
   "execution_count": null,
   "id": "d97bf4bb-c185-428c-b7a7-866ab39b273e",
   "metadata": {},
   "outputs": [],
   "source": []
  },
  {
   "cell_type": "code",
   "execution_count": null,
   "id": "e060fa95-4892-4472-a7a6-d9ed991166ff",
   "metadata": {},
   "outputs": [],
   "source": []
  },
  {
   "cell_type": "code",
   "execution_count": null,
   "id": "a80551ed-25b4-4b2c-986f-002d7d687a4c",
   "metadata": {},
   "outputs": [],
   "source": [
    "# JOIN entre info_filmes e info_diretores_escritores"
   ]
  },
  {
   "cell_type": "code",
   "execution_count": null,
   "id": "306ba623-3e45-406b-820a-e6055a2e54fa",
   "metadata": {},
   "outputs": [],
   "source": []
  },
  {
   "cell_type": "code",
   "execution_count": 4,
   "id": "4f585815-cbdd-4951-a533-31a0c3b58eec",
   "metadata": {},
   "outputs": [
    {
     "name": "stderr",
     "output_type": "stream",
     "text": [
      "                                                                                \r"
     ]
    },
    {
     "name": "stdout",
     "output_type": "stream",
     "text": [
      "+---------+--------------------+----------+-------------+--------------------+--------------------+\n",
      "| id_filme|              titulo|lancamento|duracao_filme|              genero|          escritores|\n",
      "+---------+--------------------+----------+-------------+--------------------+--------------------+\n",
      "|tt0063803|Who's That Knocki...|      1967|           90|               Drama| nm0000217,nm1058895|\n",
      "|tt0068309|       Boxcar Bertha|      1972|           88| Crime,Drama,Romance|nm0718639,nm01810...|\n",
      "|tt0070379|        Mean Streets|      1973|          112|Crime,Drama,Thriller| nm0000217,nm0552731|\n",
      "|tt0071115|Alice Doesn't Liv...|      1974|          112|       Drama,Romance|           nm0315205|\n",
      "|tt0075314|         Taxi Driver|      1976|          114|         Crime,Drama|           nm0001707|\n",
      "|tt0076451|  New York, New York|      1977|          155| Drama,Music,Musical| nm0711996,nm0552731|\n",
      "|tt0081398|         Raging Bull|      1980|          129|Biography,Drama,S...|nm0483766,nm01417...|\n",
      "|tt0085794|  The King of Comedy|      1982|          109|  Comedy,Crime,Drama|           nm0956857|\n",
      "|tt0088680|         After Hours|      1985|           97|  Comedy,Crime,Drama|           nm0591387|\n",
      "|tt0090863|  The Color of Money|      1986|          119|         Drama,Sport| nm0856677,nm0697115|\n",
      "|tt0095497|The Last Temptati...|      1988|          164|               Drama| nm0443611,nm0001707|\n",
      "|tt0099685|          Goodfellas|      1990|          145|Biography,Crime,D...| nm0683380,nm0000217|\n",
      "|tt0106226|The Age of Innocence|      1993|          139|       Drama,Romance|nm0923585,nm01683...|\n",
      "|tt0112641|              Casino|      1995|          178|         Crime,Drama| nm0683380,nm0000217|\n",
      "|tt0119485|              Kundun|      1997|          134|Biography,Drama,H...|           nm0558953|\n",
      "|tt0163988|Bringing Out the ...|      1999|          121|      Drama,Thriller| nm0175081,nm0001707|\n",
      "|tt0217505|   Gangs of New York|      2002|          167|         Crime,Drama|nm0168379,nm00018...|\n",
      "|tt0338751|         The Aviator|      2004|          170|     Biography,Drama|           nm0517589|\n",
      "|tt0407887|        The Departed|      2006|          151|Crime,Drama,Thriller|nm1184258,nm05383...|\n",
      "|tt0490215|             Silence|      2016|          161|       Drama,History|nm0168379,nm00002...|\n",
      "|tt0970179|                Hugo|      2011|          126|Adventure,Drama,F...| nm0517589,nm2561765|\n",
      "|tt1302006|        The Irishman|      2019|          209|Biography,Crime,D...| nm0001873,nm3153307|\n",
      "|tt5537002|Killers of the Fl...|      2023|          206| Crime,Drama,History|nm0744839,nm00002...|\n",
      "+---------+--------------------+----------+-------------+--------------------+--------------------+\n",
      "\n"
     ]
    },
    {
     "name": "stderr",
     "output_type": "stream",
     "text": [
      "[Stage 16:===========================================>              (3 + 1) / 4]\r"
     ]
    },
    {
     "name": "stdout",
     "output_type": "stream",
     "text": [
      "O DataFrame tem 6 colunas.\n",
      "O DataFrame tem 23 linhas (dados).\n"
     ]
    },
    {
     "name": "stderr",
     "output_type": "stream",
     "text": [
      "                                                                                \r"
     ]
    }
   ],
   "source": [
    "basicos_filmes.createOrReplaceTempView(\"info_filmes\")\n",
    "diretores_escritores.createOrReplaceTempView(\"info_diretores_escritores\")\n",
    "\n",
    "\n",
    "filmes_martin_sql = \"\"\"\n",
    "SELECT\n",
    "    f.id_filme,\n",
    "    f.titulo,\n",
    "    f.lancamento,\n",
    "    f.duracao_filme,\n",
    "    f.genero,\n",
    "    de.escritores\n",
    "FROM\n",
    "    info_filmes f\n",
    "JOIN\n",
    "    info_diretores_escritores de\n",
    "ON\n",
    "    f.id_filme = de.id_filme\n",
    "WHERE\n",
    "    de.diretores = 'nm0000217'\n",
    "\"\"\"\n",
    "\n",
    "filmes_diretores_escritores = spark.sql(filmes_martin_sql)\n",
    "\n",
    "# removendo o id do filme Roosevelt pois ainda está em produção\n",
    "\n",
    "id_filme_a_remover = 'tt7428530'\n",
    "\n",
    "filmes_diretores_escritores = filmes_diretores_escritores.filter(filmes_diretores_escritores[\"id_filme\"] != id_filme_a_remover)\n",
    "\n",
    "filmes_diretores_escritores.show(30)\n",
    "\n",
    "# contagem de colunas\n",
    "\n",
    "contagem_de_dados = filmes_diretores_escritores.count()\n",
    "contagem_de_colunas = len(filmes_diretores_escritores.columns)\n",
    "\n",
    "print(f\"O DataFrame tem {contagem_de_colunas} colunas.\")\n",
    "\n",
    "# contagem de linhas\n",
    "print(f\"O DataFrame tem {contagem_de_dados} linhas (dados).\")"
   ]
  },
  {
   "cell_type": "code",
   "execution_count": null,
   "id": "4f935933-cb2a-4ae5-9f05-2d13fa5241bd",
   "metadata": {},
   "outputs": [],
   "source": []
  },
  {
   "cell_type": "code",
   "execution_count": null,
   "id": "097352dc-4055-4e3e-a1a4-76b6a1b77e9e",
   "metadata": {},
   "outputs": [],
   "source": [
    "# Transformando a coluna escritores, usando split e explode para gerar atomicidade"
   ]
  },
  {
   "cell_type": "code",
   "execution_count": null,
   "id": "0f00986f-9f7e-4301-b309-0853e0991622",
   "metadata": {},
   "outputs": [],
   "source": []
  },
  {
   "cell_type": "code",
   "execution_count": 7,
   "id": "71b67a03-b9e6-4b44-8a96-22d30083b012",
   "metadata": {},
   "outputs": [
    {
     "name": "stderr",
     "output_type": "stream",
     "text": [
      "                                                                                \r"
     ]
    },
    {
     "name": "stdout",
     "output_type": "stream",
     "text": [
      "+---------+--------------------+----------+-------------+--------------------+---------+\n",
      "| id_filme|              titulo|lancamento|duracao_filme|              genero|  id_nome|\n",
      "+---------+--------------------+----------+-------------+--------------------+---------+\n",
      "|tt0063803|Who's That Knocki...|      1967|           90|               Drama|nm0000217|\n",
      "|tt0063803|Who's That Knocki...|      1967|           90|               Drama|nm1058895|\n",
      "|tt0068309|       Boxcar Bertha|      1972|           88| Crime,Drama,Romance|nm0718639|\n",
      "|tt0068309|       Boxcar Bertha|      1972|           88| Crime,Drama,Romance|nm0181020|\n",
      "|tt0068309|       Boxcar Bertha|      1972|           88| Crime,Drama,Romance|nm0181019|\n",
      "|tt0070379|        Mean Streets|      1973|          112|Crime,Drama,Thriller|nm0000217|\n",
      "|tt0070379|        Mean Streets|      1973|          112|Crime,Drama,Thriller|nm0552731|\n",
      "|tt0071115|Alice Doesn't Liv...|      1974|          112|       Drama,Romance|nm0315205|\n",
      "|tt0075314|         Taxi Driver|      1976|          114|         Crime,Drama|nm0001707|\n",
      "|tt0076451|  New York, New York|      1977|          155| Drama,Music,Musical|nm0711996|\n",
      "+---------+--------------------+----------+-------------+--------------------+---------+\n",
      "only showing top 10 rows\n",
      "\n",
      "O DataFrame tem 6 colunas.\n",
      "O DataFrame tem 49 linhas (dados).\n"
     ]
    },
    {
     "name": "stderr",
     "output_type": "stream",
     "text": [
      "                                                                                \r"
     ]
    }
   ],
   "source": [
    "from pyspark.sql.functions import split, col, explode\n",
    "\n",
    "# dividir a coluna 'id_filme' em uma lista de valores\n",
    "\n",
    "filmes_diretores_escritores = filmes_diretores_escritores.withColumnRenamed(\"escritores\", \"id_nome\")\n",
    "\n",
    "filmes_diretores_escritores = filmes_diretores_escritores.withColumn(\"id_nome\", split(col(\"id_nome\"), \",\"))\n",
    "\n",
    "# explode para criar uma linha para cada valor na lista 'id_filme'\n",
    "\n",
    "filmes_diretores_escritores_exploded = filmes_diretores_escritores.withColumn(\"id_nome\", explode(col(\"id_nome\")))\n",
    "\n",
    "# contagem de colunas\n",
    "\n",
    "contagem_de_dados = filmes_diretores_escritores_exploded.count()\n",
    "contagem_de_colunas = len(filmes_diretores_escritores_exploded.columns)\n",
    "\n",
    "filmes_diretores_escritores_exploded.show(10)\n",
    "\n",
    "print(f\"O DataFrame tem {contagem_de_colunas} colunas.\")\n",
    "\n",
    "# contagem de linhas\n",
    "print(f\"O DataFrame tem {contagem_de_dados} linhas (dados).\")\n"
   ]
  },
  {
   "cell_type": "code",
   "execution_count": null,
   "id": "eaeb08cb-8277-47ad-84a0-de82a7534fa7",
   "metadata": {},
   "outputs": [],
   "source": []
  },
  {
   "cell_type": "code",
   "execution_count": null,
   "id": "772bd145-e2ca-4455-a920-cc34ab217294",
   "metadata": {},
   "outputs": [],
   "source": [
    "# CRIANDO UMA TABELA FATO_FILMES COM ESSAS TRANSFORMAÇÕES"
   ]
  },
  {
   "cell_type": "code",
   "execution_count": null,
   "id": "c596b766-7131-4033-85ac-8c18202e0416",
   "metadata": {},
   "outputs": [],
   "source": []
  },
  {
   "cell_type": "code",
   "execution_count": 8,
   "id": "6afd8ef9-29c3-41d0-b863-7c925589e711",
   "metadata": {},
   "outputs": [
    {
     "name": "stderr",
     "output_type": "stream",
     "text": [
      "                                                                                \r"
     ]
    },
    {
     "name": "stdout",
     "output_type": "stream",
     "text": [
      "O DataFrame tem 6 colunas.\n",
      "O DataFrame tem 49 linhas (dados).\n"
     ]
    },
    {
     "name": "stderr",
     "output_type": "stream",
     "text": [
      "[Stage 39:======================================>                   (2 + 1) / 3]\r"
     ]
    },
    {
     "name": "stdout",
     "output_type": "stream",
     "text": [
      "+---------+---------+--------------------+----------+-------------+--------------------+\n",
      "| id_filme|  id_nome|              titulo|lancamento|duracao_filme|              genero|\n",
      "+---------+---------+--------------------+----------+-------------+--------------------+\n",
      "|tt0063803|nm0000217|Who's That Knocki...|      1967|           90|               Drama|\n",
      "|tt0063803|nm1058895|Who's That Knocki...|      1967|           90|               Drama|\n",
      "|tt0068309|nm0718639|       Boxcar Bertha|      1972|           88| Crime,Drama,Romance|\n",
      "|tt0068309|nm0181020|       Boxcar Bertha|      1972|           88| Crime,Drama,Romance|\n",
      "|tt0068309|nm0181019|       Boxcar Bertha|      1972|           88| Crime,Drama,Romance|\n",
      "|tt0070379|nm0000217|        Mean Streets|      1973|          112|Crime,Drama,Thriller|\n",
      "|tt0070379|nm0552731|        Mean Streets|      1973|          112|Crime,Drama,Thriller|\n",
      "|tt0071115|nm0315205|Alice Doesn't Liv...|      1974|          112|       Drama,Romance|\n",
      "|tt0075314|nm0001707|         Taxi Driver|      1976|          114|         Crime,Drama|\n",
      "|tt0076451|nm0711996|  New York, New York|      1977|          155| Drama,Music,Musical|\n",
      "|tt0076451|nm0552731|  New York, New York|      1977|          155| Drama,Music,Musical|\n",
      "|tt0081398|nm0483766|         Raging Bull|      1980|          129|Biography,Drama,S...|\n",
      "|tt0081398|nm0141734|         Raging Bull|      1980|          129|Biography,Drama,S...|\n",
      "|tt0081398|nm0678014|         Raging Bull|      1980|          129|Biography,Drama,S...|\n",
      "|tt0081398|nm0001707|         Raging Bull|      1980|          129|Biography,Drama,S...|\n",
      "|tt0081398|nm0552731|         Raging Bull|      1980|          129|Biography,Drama,S...|\n",
      "|tt0085794|nm0956857|  The King of Comedy|      1982|          109|  Comedy,Crime,Drama|\n",
      "|tt0088680|nm0591387|         After Hours|      1985|           97|  Comedy,Crime,Drama|\n",
      "|tt0090863|nm0856677|  The Color of Money|      1986|          119|         Drama,Sport|\n",
      "|tt0090863|nm0697115|  The Color of Money|      1986|          119|         Drama,Sport|\n",
      "|tt0095497|nm0443611|The Last Temptati...|      1988|          164|               Drama|\n",
      "|tt0095497|nm0001707|The Last Temptati...|      1988|          164|               Drama|\n",
      "|tt0099685|nm0683380|          Goodfellas|      1990|          145|Biography,Crime,D...|\n",
      "|tt0099685|nm0000217|          Goodfellas|      1990|          145|Biography,Crime,D...|\n",
      "|tt0106226|nm0923585|The Age of Innocence|      1993|          139|       Drama,Romance|\n",
      "|tt0106226|nm0168379|The Age of Innocence|      1993|          139|       Drama,Romance|\n",
      "|tt0106226|nm0000217|The Age of Innocence|      1993|          139|       Drama,Romance|\n",
      "|tt0112641|nm0683380|              Casino|      1995|          178|         Crime,Drama|\n",
      "|tt0112641|nm0000217|              Casino|      1995|          178|         Crime,Drama|\n",
      "|tt0119485|nm0558953|              Kundun|      1997|          134|Biography,Drama,H...|\n",
      "|tt0163988|nm0175081|Bringing Out the ...|      1999|          121|      Drama,Thriller|\n",
      "|tt0163988|nm0001707|Bringing Out the ...|      1999|          121|      Drama,Thriller|\n",
      "|tt0217505|nm0168379|   Gangs of New York|      2002|          167|         Crime,Drama|\n",
      "|tt0217505|nm0001873|   Gangs of New York|      2002|          167|         Crime,Drama|\n",
      "|tt0217505|nm0518836|   Gangs of New York|      2002|          167|         Crime,Drama|\n",
      "|tt0338751|nm0517589|         The Aviator|      2004|          170|     Biography,Drama|\n",
      "|tt0407887|nm1184258|        The Departed|      2006|          151|Crime,Drama,Thriller|\n",
      "|tt0407887|nm0538320|        The Departed|      2006|          151|Crime,Drama,Thriller|\n",
      "|tt0407887|nm0159039|        The Departed|      2006|          151|Crime,Drama,Thriller|\n",
      "|tt0490215|nm0168379|             Silence|      2016|          161|       Drama,History|\n",
      "|tt0490215|nm0000217|             Silence|      2016|          161|       Drama,History|\n",
      "|tt0490215|nm0256870|             Silence|      2016|          161|       Drama,History|\n",
      "|tt0970179|nm0517589|                Hugo|      2011|          126|Adventure,Drama,F...|\n",
      "|tt0970179|nm2561765|                Hugo|      2011|          126|Adventure,Drama,F...|\n",
      "|tt1302006|nm0001873|        The Irishman|      2019|          209|Biography,Crime,D...|\n",
      "|tt1302006|nm3153307|        The Irishman|      2019|          209|Biography,Crime,D...|\n",
      "|tt5537002|nm0744839|Killers of the Fl...|      2023|          206| Crime,Drama,History|\n",
      "|tt5537002|nm0000217|Killers of the Fl...|      2023|          206| Crime,Drama,History|\n",
      "|tt5537002|nm2970418|Killers of the Fl...|      2023|          206| Crime,Drama,History|\n",
      "+---------+---------+--------------------+----------+-------------+--------------------+\n",
      "\n"
     ]
    },
    {
     "name": "stderr",
     "output_type": "stream",
     "text": [
      "                                                                                \r"
     ]
    }
   ],
   "source": [
    "filmes_diretores_escritores_exploded.createOrReplaceTempView(\"fato_filmes\")\n",
    "\n",
    "fato_filmes_sql = \"\"\"\n",
    "SELECT\n",
    "    id_filme,\n",
    "    id_nome,\n",
    "    titulo,\n",
    "    lancamento,\n",
    "    duracao_filme,\n",
    "    genero\n",
    "\n",
    "FROM\n",
    "    fato_filmes\n",
    "\"\"\"\n",
    "\n",
    "fato_filmes = spark.sql(fato_filmes_sql)\n",
    "\n",
    "contagem_de_dados = fato_filmes.count()\n",
    "contagem_de_colunas = len(fato_filmes.columns)\n",
    "\n",
    "print(f\"O DataFrame tem {contagem_de_colunas} colunas.\")\n",
    "\n",
    "# contagem de linhas\n",
    "print(f\"O DataFrame tem {contagem_de_dados} linhas (dados).\")\n",
    "\n",
    "fato_filmes.show(50)"
   ]
  },
  {
   "cell_type": "code",
   "execution_count": null,
   "id": "dc9ca69b-f9ae-4a41-bbcd-73ed27fff0fe",
   "metadata": {},
   "outputs": [],
   "source": []
  },
  {
   "cell_type": "code",
   "execution_count": null,
   "id": "da482ba8-2ee9-427f-8981-4be26d288775",
   "metadata": {},
   "outputs": [],
   "source": [
    "# Exportando essa tabela para o Dashboard"
   ]
  },
  {
   "cell_type": "code",
   "execution_count": null,
   "id": "09b4c871-47bb-4a41-8266-112ccaa9e450",
   "metadata": {},
   "outputs": [],
   "source": []
  },
  {
   "cell_type": "code",
   "execution_count": 29,
   "id": "9fcbd2ba-bb03-49e2-ba6b-fca94579a38d",
   "metadata": {},
   "outputs": [
    {
     "name": "stderr",
     "output_type": "stream",
     "text": [
      "[Stage 73:>                                                         (0 + 1) / 1]\r"
     ]
    },
    {
     "name": "stdout",
     "output_type": "stream",
     "text": [
      "Os dados foram salvos com sucesso como arquivo Parquet.\n"
     ]
    },
    {
     "name": "stderr",
     "output_type": "stream",
     "text": [
      "                                                                                \r"
     ]
    }
   ],
   "source": [
    "from datetime import datetime\n",
    "\n",
    "current_date = datetime.now().strftime(\"%Y/%m/%d\")\n",
    "\n",
    "# Definindo a variável do Output\n",
    "\n",
    "output_path = f\"file:/home/hadoop/imdb/refined/fato_filmes\"\n",
    "\n",
    "# Salvar o DataFrame como um arquivo Parquet\n",
    "\n",
    "fato_filmes.coalesce(1).write.saveAsTable(name=\"fato_filmes\",mode=\"overwrite\",path=output_path,format=\"parquet\")\n",
    "\n",
    "print(\"Os dados foram salvos com sucesso como arquivo Parquet.\")"
   ]
  },
  {
   "cell_type": "code",
   "execution_count": null,
   "id": "3881d7dc-b640-4b73-a317-9e908dc93ae4",
   "metadata": {},
   "outputs": [],
   "source": []
  },
  {
   "cell_type": "code",
   "execution_count": null,
   "id": "c2a39fb1-d7b8-4740-b710-63f3903a37d7",
   "metadata": {},
   "outputs": [],
   "source": [
    "# INFO colaboradores - dim_equipe_filmes"
   ]
  },
  {
   "cell_type": "code",
   "execution_count": null,
   "id": "35ba5a14-3c43-4c4f-b7b7-bb1b5dd06d3b",
   "metadata": {},
   "outputs": [],
   "source": []
  },
  {
   "cell_type": "code",
   "execution_count": 25,
   "id": "3f361ec2-884a-481e-9cdc-834f12139b78",
   "metadata": {},
   "outputs": [
    {
     "name": "stdout",
     "output_type": "stream",
     "text": [
      "O DataFrame tem 6 colunas.\n",
      "O DataFrame tem 12954255 linhas (dados).\n",
      "+---------+---------------+--------------------+--------------------+--------------+---------------+\n",
      "|  id_nome|           nome| participacao_filmes| profissao_principal|ano_nascimento|ano_falecimento|\n",
      "+---------+---------------+--------------------+--------------------+--------------+---------------+\n",
      "|nm0000001|   Fred Astaire|tt0072308,tt00319...|soundtrack,actor,...|          1899|           1987|\n",
      "|nm0000002|  Lauren Bacall|tt0038355,tt01170...|  actress,soundtrack|          1924|           2014|\n",
      "|nm0000003|Brigitte Bardot|tt0054452,tt00564...|actress,soundtrac...|          1934|        vivo(a)|\n",
      "|nm0000004|   John Belushi|tt0072562,tt00804...|actor,soundtrack,...|          1949|           1982|\n",
      "|nm0000005| Ingmar Bergman|tt0050986,tt00839...|writer,director,a...|          1918|           2007|\n",
      "|nm0000006| Ingrid Bergman|tt0034583,tt00368...|actress,soundtrac...|          1915|           1982|\n",
      "|nm0000007|Humphrey Bogart|tt0042593,tt00432...|actor,soundtrack,...|          1899|           1957|\n",
      "|nm0000008|  Marlon Brando|tt0078788,tt00708...|actor,soundtrack,...|          1924|           2004|\n",
      "|nm0000009| Richard Burton|tt0061184,tt00578...|actor,soundtrack,...|          1925|           1984|\n",
      "|nm0000010|   James Cagney|tt0029870,tt00420...|actor,soundtrack,...|          1899|           1986|\n",
      "+---------+---------------+--------------------+--------------------+--------------+---------------+\n",
      "only showing top 10 rows\n",
      "\n"
     ]
    }
   ],
   "source": [
    "equipe = spark.read.parquet(\"file:/home/hadoop/imdb/parquet/info_colaboradores/2023/11/02/*.parquet\")\n",
    "\n",
    "contagem_de_dados = equipe.count()\n",
    "contagem_de_colunas = len(equipe.columns)\n",
    "# contagem de colunas\n",
    "print(f\"O DataFrame tem {contagem_de_colunas} colunas.\")\n",
    "\n",
    "# contagem de linhas\n",
    "print(f\"O DataFrame tem {contagem_de_dados} linhas (dados).\")\n",
    "\n",
    "equipe.show(10)"
   ]
  },
  {
   "cell_type": "code",
   "execution_count": null,
   "id": "7730bfd7-bf96-4ba7-883a-eb5f0f881915",
   "metadata": {},
   "outputs": [],
   "source": []
  },
  {
   "cell_type": "code",
   "execution_count": null,
   "id": "300ade4e-2592-4671-a59b-87a4bf6b0365",
   "metadata": {},
   "outputs": [],
   "source": [
    "# algumas transformações"
   ]
  },
  {
   "cell_type": "code",
   "execution_count": null,
   "id": "e86d5ca7-4e28-485d-a194-7001edd95180",
   "metadata": {},
   "outputs": [],
   "source": []
  },
  {
   "cell_type": "code",
   "execution_count": 26,
   "id": "19597763-b2c0-4d35-b6d2-98eda4a7583a",
   "metadata": {},
   "outputs": [
    {
     "name": "stdout",
     "output_type": "stream",
     "text": [
      "O DataFrame tem 6 colunas.\n",
      "O DataFrame tem 12954255 linhas (dados).\n",
      "+---------+---------------+--------------------+--------------------+--------------+---------------+\n",
      "|  id_nome|           nome|            id_filme| profissao_principal|ano_nascimento|ano_falecimento|\n",
      "+---------+---------------+--------------------+--------------------+--------------+---------------+\n",
      "|nm0000001|   Fred Astaire|tt0072308,tt00319...|soundtrack,actor,...|          1899|           1987|\n",
      "|nm0000002|  Lauren Bacall|tt0038355,tt01170...|  actress,soundtrack|          1924|           2014|\n",
      "|nm0000003|Brigitte Bardot|tt0054452,tt00564...|actress,soundtrac...|          1934|        vivo(a)|\n",
      "|nm0000004|   John Belushi|tt0072562,tt00804...|actor,soundtrack,...|          1949|           1982|\n",
      "|nm0000005| Ingmar Bergman|tt0050986,tt00839...|writer,director,a...|          1918|           2007|\n",
      "|nm0000006| Ingrid Bergman|tt0034583,tt00368...|actress,soundtrac...|          1915|           1982|\n",
      "|nm0000007|Humphrey Bogart|tt0042593,tt00432...|actor,soundtrack,...|          1899|           1957|\n",
      "|nm0000008|  Marlon Brando|tt0078788,tt00708...|actor,soundtrack,...|          1924|           2004|\n",
      "|nm0000009| Richard Burton|tt0061184,tt00578...|actor,soundtrack,...|          1925|           1984|\n",
      "|nm0000010|   James Cagney|tt0029870,tt00420...|actor,soundtrack,...|          1899|           1986|\n",
      "+---------+---------------+--------------------+--------------------+--------------+---------------+\n",
      "only showing top 10 rows\n",
      "\n"
     ]
    }
   ],
   "source": [
    "from pyspark.sql.functions import split, col, explode\n",
    "\n",
    "# dividir a coluna 'id_filme' em uma lista de valores\n",
    "\n",
    "equipe = equipe.withColumnRenamed(\"participacao_filmes\", \"id_filme\")\n",
    "\n",
    "contagem_de_dados = equipe.count()\n",
    "contagem_de_colunas = len(equipe.columns)\n",
    "# contagem de colunas\n",
    "print(f\"O DataFrame tem {contagem_de_colunas} colunas.\")\n",
    "\n",
    "# contagem de linhas\n",
    "print(f\"O DataFrame tem {contagem_de_dados} linhas (dados).\")\n",
    "\n",
    "equipe.show(10)"
   ]
  },
  {
   "cell_type": "code",
   "execution_count": null,
   "id": "f16826a4-ce0f-45a1-a918-aaba7e407e7d",
   "metadata": {},
   "outputs": [],
   "source": [
    "# USANDO EXPLODE PARA ATOMIZAR"
   ]
  },
  {
   "cell_type": "code",
   "execution_count": 27,
   "id": "70c78d52-0ef9-4295-925c-7e5bd57f33cc",
   "metadata": {},
   "outputs": [
    {
     "name": "stderr",
     "output_type": "stream",
     "text": [
      "                                                                                \r"
     ]
    },
    {
     "name": "stdout",
     "output_type": "stream",
     "text": [
      "O DataFrame tem 6 colunas.\n",
      "O DataFrame tem 22699736 linhas (dados).\n",
      "+---------+---------------+---------+--------------------+--------------+---------------+\n",
      "|  id_nome|           nome| id_filme| profissao_principal|ano_nascimento|ano_falecimento|\n",
      "+---------+---------------+---------+--------------------+--------------+---------------+\n",
      "|nm0000001|   Fred Astaire|tt0072308|soundtrack,actor,...|          1899|           1987|\n",
      "|nm0000001|   Fred Astaire|tt0031983|soundtrack,actor,...|          1899|           1987|\n",
      "|nm0000001|   Fred Astaire|tt0050419|soundtrack,actor,...|          1899|           1987|\n",
      "|nm0000001|   Fred Astaire|tt0053137|soundtrack,actor,...|          1899|           1987|\n",
      "|nm0000002|  Lauren Bacall|tt0038355|  actress,soundtrack|          1924|           2014|\n",
      "|nm0000002|  Lauren Bacall|tt0117057|  actress,soundtrack|          1924|           2014|\n",
      "|nm0000002|  Lauren Bacall|tt0075213|  actress,soundtrack|          1924|           2014|\n",
      "|nm0000002|  Lauren Bacall|tt0037382|  actress,soundtrack|          1924|           2014|\n",
      "|nm0000003|Brigitte Bardot|tt0054452|actress,soundtrac...|          1934|        vivo(a)|\n",
      "|nm0000003|Brigitte Bardot|tt0056404|actress,soundtrac...|          1934|        vivo(a)|\n",
      "+---------+---------------+---------+--------------------+--------------+---------------+\n",
      "only showing top 10 rows\n",
      "\n"
     ]
    }
   ],
   "source": [
    "from pyspark.sql.functions import split, col, explode\n",
    "\n",
    "# dividir a coluna 'id_filme' em uma lista de valores\n",
    "\n",
    "equipe = equipe.withColumn(\"id_filme\", split(col(\"id_filme\"), \",\"))\n",
    "\n",
    "# explode para criar uma linha para cada valor na lista 'id_filme'\n",
    "\n",
    "equipe_ok = equipe.withColumn(\"id_filme\", explode(col(\"id_filme\")))\n",
    "\n",
    "contagem_de_dados = equipe_ok.count()\n",
    "contagem_de_colunas = len(equipe_ok.columns)\n",
    "# contagem de colunas\n",
    "print(f\"O DataFrame tem {contagem_de_colunas} colunas.\")\n",
    "\n",
    "# contagem de linhas\n",
    "print(f\"O DataFrame tem {contagem_de_dados} linhas (dados).\")\n",
    "\n",
    "equipe_ok.show(10)"
   ]
  },
  {
   "cell_type": "code",
   "execution_count": null,
   "id": "d3020e84-1876-43b5-8797-eba00e4c5117",
   "metadata": {},
   "outputs": [],
   "source": []
  },
  {
   "cell_type": "code",
   "execution_count": null,
   "id": "ac9918a1-426d-4052-b525-f278e5c0ae6d",
   "metadata": {},
   "outputs": [],
   "source": [
    "# Join da equipe que trabalha nos filmes do martin"
   ]
  },
  {
   "cell_type": "code",
   "execution_count": null,
   "id": "d8653906-3629-49f9-978f-5aacf85c48b8",
   "metadata": {},
   "outputs": [],
   "source": []
  },
  {
   "cell_type": "code",
   "execution_count": 28,
   "id": "c804d888-8cde-423d-9191-ce90f4f96b6b",
   "metadata": {},
   "outputs": [
    {
     "name": "stderr",
     "output_type": "stream",
     "text": [
      "                                                                                \r"
     ]
    },
    {
     "name": "stdout",
     "output_type": "stream",
     "text": [
      "+---------+---------+-----------+--------------------+--------------------+--------------+---------------+\n",
      "| id_filme|  id_nome|     titulo|                nome| profissao_principal|ano_nascimento|ano_falecimento|\n",
      "+---------+---------+-----------+--------------------+--------------------+--------------+---------------+\n",
      "|tt0088680|nm0591387|After Hours|     Cuadro Flamenco|          soundtrack|            \\N|        vivo(a)|\n",
      "|tt0088680|nm0591387|After Hours|  Elizabeth Benjamin|       miscellaneous|            \\N|        vivo(a)|\n",
      "|tt0088680|nm0591387|After Hours|         Tommy Boyce|soundtrack,music_...|          1939|           1994|\n",
      "|tt0088680|nm0591387|After Hours|Rosie & The Origi...|          soundtrack|            \\N|        vivo(a)|\n",
      "|tt0088680|nm0591387|After Hours|         Verna Bloom|             actress|          1938|           2019|\n",
      "|tt0088680|nm0591387|After Hours|The Academy of An...|soundtrack,music_...|            \\N|        vivo(a)|\n",
      "|tt0088680|nm0591387|After Hours|    Rosanna Arquette|actress,producer,...|          1959|        vivo(a)|\n",
      "|tt0088680|nm0591387|After Hours|          Bad Brains|    soundtrack,actor|            \\N|        vivo(a)|\n",
      "|tt0088680|nm0591387|After Hours|    Linda Fiorentino|  actress,soundtrack|          1958|        vivo(a)|\n",
      "|tt0088680|nm0591387|After Hours|            Hy Weiss|          soundtrack|          1923|           2007|\n",
      "|tt0088680|nm0591387|After Hours|Barbara Shulman B...|costume_departmen...|            \\N|        vivo(a)|\n",
      "|tt0088680|nm0591387|After Hours|         Rose Hamlin|          soundtrack|          1945|           2017|\n",
      "|tt0088680|nm0591387|After Hours|    Jeffrey Townsend|production_design...|          1954|        vivo(a)|\n",
      "|tt0088680|nm0591387|After Hours|     Robert & Johnny|soundtrack,music_...|            \\N|        vivo(a)|\n",
      "|tt0088680|nm0591387|After Hours|       Sarah M. Brim|assistant_directo...|            \\N|        vivo(a)|\n",
      "|tt0088680|nm0591387|After Hours|    Bomani Yusuf Ali|       miscellaneous|            \\N|        vivo(a)|\n",
      "|tt0088680|nm0591387|After Hours|    Judith Lyn Brown|miscellaneous,pro...|            \\N|        vivo(a)|\n",
      "|tt0088680|nm0591387|After Hours|    Joel A. Blumenau|casting_departmen...|            \\N|        vivo(a)|\n",
      "|tt0088680|nm0591387|After Hours|      Victor Bumbalo|writer,actor,dire...|            \\N|        vivo(a)|\n",
      "|tt0088680|nm0591387|After Hours|    Henry Judd Baker|               actor|          1935|           2016|\n",
      "+---------+---------+-----------+--------------------+--------------------+--------------+---------------+\n",
      "only showing top 20 rows\n",
      "\n"
     ]
    },
    {
     "name": "stderr",
     "output_type": "stream",
     "text": [
      "[Stage 98:===========================================>              (3 + 1) / 4]\r"
     ]
    },
    {
     "name": "stdout",
     "output_type": "stream",
     "text": [
      "O DataFrame tem 7 colunas.\n",
      "O DataFrame tem 10080 linhas (dados).\n"
     ]
    },
    {
     "name": "stderr",
     "output_type": "stream",
     "text": [
      "                                                                                \r"
     ]
    }
   ],
   "source": [
    "equipe_ok.createOrReplaceTempView(\"dim_equipe_filmes\")\n",
    "fatos_filmes.createOrReplaceTempView(\"fato_filmes\")\n",
    "\n",
    "dim_equipe_sql = \"\"\"\n",
    "SELECT\n",
    "    f.id_filme,\n",
    "    f.id_nome,\n",
    "    f.titulo,\n",
    "    de.nome,\n",
    "    de.profissao_principal,\n",
    "    de.ano_nascimento,\n",
    "    de.ano_falecimento\n",
    "\n",
    "FROM\n",
    "    fato_filmes f\n",
    "JOIN\n",
    "    dim_equipe_filmes de\n",
    "ON\n",
    "    f.id_filme = de.id_filme\n",
    "ORDER BY\n",
    "    titulo\n",
    "\"\"\"\n",
    "\n",
    "dim_equipe_filmes = spark.sql(dim_equipe_sql)\n",
    "\n",
    "dim_equipe_filmes.show()\n",
    "\n",
    "contagem_de_dados = dim_equipe_filmes.count()\n",
    "contagem_de_colunas = len(dim_equipe_filmes.columns)\n",
    "\n",
    "# contagem de colunas\n",
    "print(f\"O DataFrame tem {contagem_de_colunas} colunas.\")\n",
    "\n",
    "# contagem de linhas\n",
    "print(f\"O DataFrame tem {contagem_de_dados} linhas (dados).\")\n",
    "\n"
   ]
  },
  {
   "cell_type": "code",
   "execution_count": null,
   "id": "8a0088c7-57bc-49cb-b5d6-cb8b09b70369",
   "metadata": {},
   "outputs": [],
   "source": []
  },
  {
   "cell_type": "code",
   "execution_count": null,
   "id": "a4a7f3fd-3b71-43ef-96cb-3b3e348373a1",
   "metadata": {},
   "outputs": [],
   "source": [
    "# Exportando essa tabela"
   ]
  },
  {
   "cell_type": "code",
   "execution_count": null,
   "id": "b637b33c-64ff-48e8-8598-57f283b97c51",
   "metadata": {},
   "outputs": [],
   "source": []
  },
  {
   "cell_type": "code",
   "execution_count": 29,
   "id": "f8f24c96-b557-423a-b333-75f82e5f6c88",
   "metadata": {},
   "outputs": [
    {
     "name": "stderr",
     "output_type": "stream",
     "text": [
      "[Stage 103:==========================================>              (3 + 1) / 4]\r"
     ]
    },
    {
     "name": "stdout",
     "output_type": "stream",
     "text": [
      "Os dados foram salvos com sucesso como arquivo Parquet.\n"
     ]
    },
    {
     "name": "stderr",
     "output_type": "stream",
     "text": [
      "                                                                                \r"
     ]
    }
   ],
   "source": [
    "from datetime import datetime\n",
    "\n",
    "current_date = datetime.now().strftime(\"%Y/%m/%d\")\n",
    "\n",
    "# Definindo a variável do Output\n",
    "\n",
    "output_path = f\"file:/home/hadoop/imdb/refined/dim_equipe_filmes\"\n",
    "\n",
    "# Salvar o DataFrame como um arquivo Parquet\n",
    "\n",
    "dim_equipe_filmes.coalesce(1).write.saveAsTable(name=\"dim_equipe_filmes\",mode=\"overwrite\",path=output_path,format=\"parquet\")\n",
    "\n",
    "print(\"Os dados foram salvos com sucesso como arquivo Parquet.\")"
   ]
  },
  {
   "cell_type": "code",
   "execution_count": null,
   "id": "14bd73e9-5a9c-49b8-8a61-3d095a2b8a85",
   "metadata": {},
   "outputs": [],
   "source": []
  },
  {
   "cell_type": "code",
   "execution_count": null,
   "id": "e395f4c6-f08d-4dca-851f-cdf8b555f3e3",
   "metadata": {},
   "outputs": [],
   "source": [
    "# INFOS Filmes_atores"
   ]
  },
  {
   "cell_type": "code",
   "execution_count": null,
   "id": "621748a8-dc39-4829-86cd-f10a012f56f4",
   "metadata": {},
   "outputs": [],
   "source": []
  },
  {
   "cell_type": "code",
   "execution_count": 18,
   "id": "51ea54dc-9509-4b49-9c26-681d08377e81",
   "metadata": {},
   "outputs": [
    {
     "name": "stderr",
     "output_type": "stream",
     "text": [
      "                                                                                \r"
     ]
    },
    {
     "name": "stdout",
     "output_type": "stream",
     "text": [
      "root\n",
      " |-- id_filme: string (nullable = true)\n",
      " |-- id_nome: string (nullable = true)\n",
      " |-- ordem: string (nullable = true)\n",
      " |-- categoria: string (nullable = true)\n",
      " |-- personagem: string (nullable = true)\n",
      " |-- trabalho: string (nullable = true)\n",
      "\n"
     ]
    },
    {
     "name": "stderr",
     "output_type": "stream",
     "text": [
      "                                                                                \r"
     ]
    },
    {
     "name": "stdout",
     "output_type": "stream",
     "text": [
      "+---------+---------+-----+---------------+----------+--------------------+\n",
      "| id_filme|  id_nome|ordem|      categoria|personagem|            trabalho|\n",
      "+---------+---------+-----+---------------+----------+--------------------+\n",
      "|tt0000001|nm1588970|    1|           self|  [\"Self\"]|                  \\N|\n",
      "|tt0000001|nm0005690|    2|       director|        \\N|                  \\N|\n",
      "|tt0000001|nm0374658|    3|cinematographer|        \\N|director of photo...|\n",
      "|tt0000002|nm0721526|    1|       director|        \\N|                  \\N|\n",
      "|tt0000002|nm1335271|    2|       composer|        \\N|                  \\N|\n",
      "|tt0000003|nm0721526|    1|       director|        \\N|                  \\N|\n",
      "|tt0000003|nm1770680|    2|       producer|        \\N|            producer|\n",
      "|tt0000003|nm1335271|    3|       composer|        \\N|                  \\N|\n",
      "|tt0000003|nm5442200|    4|         editor|        \\N|                  \\N|\n",
      "|tt0000004|nm0721526|    1|       director|        \\N|                  \\N|\n",
      "+---------+---------+-----+---------------+----------+--------------------+\n",
      "only showing top 10 rows\n",
      "\n",
      "O DataFrame tem 6 colunas.\n",
      "O DataFrame tem 58797177 linhas (dados).\n"
     ]
    }
   ],
   "source": [
    "filme_ator = spark.read.parquet(\"file:/home/hadoop/imdb/parquet/filme_ator/2023/11/01/*.parquet\")\n",
    "filme_ator.printSchema()\n",
    "filme_ator.show(10)\n",
    "contagem_de_dados = filme_ator.count()\n",
    "contagem_de_colunas = len(filme_ator.columns)\n",
    "\n",
    "# contagem de colunas\n",
    "print(f\"O DataFrame tem {contagem_de_colunas} colunas.\")\n",
    "\n",
    "# contagem de linhas\n",
    "print(f\"O DataFrame tem {contagem_de_dados} linhas (dados).\")"
   ]
  },
  {
   "cell_type": "code",
   "execution_count": null,
   "id": "d046bc2a-14e9-45c1-b74c-aaa0ee34dbfc",
   "metadata": {},
   "outputs": [],
   "source": []
  },
  {
   "cell_type": "code",
   "execution_count": null,
   "id": "2a6be34c-487b-4c42-9b8d-102a9fc3c54e",
   "metadata": {},
   "outputs": [],
   "source": [
    "# Join com Fato Filmes"
   ]
  },
  {
   "cell_type": "code",
   "execution_count": null,
   "id": "4e937170-bfc1-4c12-9e54-5313727cf001",
   "metadata": {},
   "outputs": [],
   "source": []
  },
  {
   "cell_type": "code",
   "execution_count": 19,
   "id": "6550f3bd-404c-4d94-9870-92db61141a31",
   "metadata": {},
   "outputs": [
    {
     "name": "stderr",
     "output_type": "stream",
     "text": [
      "                                                                                \r"
     ]
    },
    {
     "name": "stdout",
     "output_type": "stream",
     "text": [
      "O DataFrame tem 7 colunas.\n",
      "O DataFrame tem 488 linhas (dados).\n"
     ]
    },
    {
     "name": "stderr",
     "output_type": "stream",
     "text": [
      "[Stage 74:>                                                         (0 + 1) / 1]\r"
     ]
    },
    {
     "name": "stdout",
     "output_type": "stream",
     "text": [
      "+---------+---------+--------------------+-----+---------------+-----------------+--------------------+\n",
      "| id_filme|  id_nome|              titulo|ordem|      categoria|       personagem|            trabalho|\n",
      "+---------+---------+--------------------+-----+---------------+-----------------+--------------------+\n",
      "|tt0063803|nm1058895|Who's That Knocki...|   10|cinematographer|               \\N|director of photo...|\n",
      "|tt0063803|nm0000217|Who's That Knocki...|   10|cinematographer|               \\N|director of photo...|\n",
      "|tt0063803|nm1058895|Who's That Knocki...|    1|          actor|         [\"J.R.\"]|                  \\N|\n",
      "|tt0063803|nm0000217|Who's That Knocki...|    1|          actor|         [\"J.R.\"]|                  \\N|\n",
      "|tt0063803|nm1058895|Who's That Knocki...|    2|        actress|         [\"Girl\"]|                  \\N|\n",
      "|tt0063803|nm0000217|Who's That Knocki...|    2|        actress|         [\"Girl\"]|                  \\N|\n",
      "|tt0063803|nm1058895|Who's That Knocki...|    3|        actress|[\"Girl in Dream\"]|                  \\N|\n",
      "|tt0063803|nm0000217|Who's That Knocki...|    3|        actress|[\"Girl in Dream\"]|                  \\N|\n",
      "|tt0063803|nm1058895|Who's That Knocki...|    4|          actor|         [\"Joey\"]|                  \\N|\n",
      "|tt0063803|nm0000217|Who's That Knocki...|    4|          actor|         [\"Joey\"]|                  \\N|\n",
      "|tt0063803|nm1058895|Who's That Knocki...|    5|       director|               \\N|                  \\N|\n",
      "|tt0063803|nm0000217|Who's That Knocki...|    5|       director|               \\N|                  \\N|\n",
      "|tt0063803|nm1058895|Who's That Knocki...|    6|         writer|               \\N| additional dialogue|\n",
      "|tt0063803|nm0000217|Who's That Knocki...|    6|         writer|               \\N| additional dialogue|\n",
      "|tt0063803|nm1058895|Who's That Knocki...|    7|       producer|               \\N|            producer|\n",
      "|tt0063803|nm0000217|Who's That Knocki...|    7|       producer|               \\N|            producer|\n",
      "|tt0063803|nm1058895|Who's That Knocki...|    8|       producer|               \\N|            producer|\n",
      "|tt0063803|nm0000217|Who's That Knocki...|    8|       producer|               \\N|            producer|\n",
      "|tt0063803|nm1058895|Who's That Knocki...|    9|cinematographer|               \\N|director of photo...|\n",
      "|tt0063803|nm0000217|Who's That Knocki...|    9|cinematographer|               \\N|director of photo...|\n",
      "+---------+---------+--------------------+-----+---------------+-----------------+--------------------+\n",
      "only showing top 20 rows\n",
      "\n"
     ]
    },
    {
     "name": "stderr",
     "output_type": "stream",
     "text": [
      "                                                                                \r"
     ]
    }
   ],
   "source": [
    "filme_ator.createOrReplaceTempView(\"dim_atores\")\n",
    "\n",
    "dim_func_sql = \"\"\"\n",
    "SELECT\n",
    "    f.id_filme,\n",
    "    f.id_nome,\n",
    "    f.titulo,\n",
    "    de.ordem,\n",
    "    de.categoria,\n",
    "    de.personagem,\n",
    "    de.trabalho\n",
    "\n",
    "FROM\n",
    "    fato_filmes f\n",
    "JOIN\n",
    "    dim_atores de\n",
    "ON\n",
    "    f.id_filme = de.id_filme\n",
    "\"\"\"\n",
    "\n",
    "# Agora você pode executar consultas SQL na tabela temporária\n",
    "dim_atores = spark.sql(dim_func_sql)\n",
    "\n",
    "contagem_de_dados = dim_atores.count()\n",
    "contagem_de_colunas = len(dim_atores.columns)\n",
    "\n",
    "# contagem de colunas\n",
    "print(f\"O DataFrame tem {contagem_de_colunas} colunas.\")\n",
    "\n",
    "# contagem de linhas\n",
    "print(f\"O DataFrame tem {contagem_de_dados} linhas (dados).\")\n",
    "\n",
    "dim_atores.show()"
   ]
  },
  {
   "cell_type": "code",
   "execution_count": null,
   "id": "aa1452b7-a952-47ab-9715-f829dbed956e",
   "metadata": {},
   "outputs": [],
   "source": []
  },
  {
   "cell_type": "code",
   "execution_count": null,
   "id": "ebdd0d37-1018-48d5-ba99-fc50666b4e5e",
   "metadata": {},
   "outputs": [],
   "source": [
    "# EXPORTANDO TABELA"
   ]
  },
  {
   "cell_type": "code",
   "execution_count": null,
   "id": "74700557-c1d7-4590-bbf2-df2d98369bcf",
   "metadata": {},
   "outputs": [],
   "source": []
  },
  {
   "cell_type": "code",
   "execution_count": 20,
   "id": "5038a76b-ae77-435d-bf1c-5d7885c690cc",
   "metadata": {},
   "outputs": [
    {
     "name": "stderr",
     "output_type": "stream",
     "text": [
      "[Stage 76:>                                                         (0 + 1) / 1]\r"
     ]
    },
    {
     "name": "stdout",
     "output_type": "stream",
     "text": [
      "Os dados foram salvos com sucesso como arquivo Parquet.\n"
     ]
    },
    {
     "name": "stderr",
     "output_type": "stream",
     "text": [
      "                                                                                \r"
     ]
    }
   ],
   "source": [
    "from datetime import datetime\n",
    "\n",
    "current_date = datetime.now().strftime(\"%Y/%m/%d\")\n",
    "\n",
    "# Definindo a variável do Output\n",
    "\n",
    "output_path = f\"file:/home/hadoop/imdb/refined/dim_atores\"\n",
    "\n",
    "# Salvar o DataFrame como um arquivo Parquet\n",
    "\n",
    "dim_atores.coalesce(1).write.saveAsTable(name=\"dim_atores\",mode=\"overwrite\",path=output_path,format=\"parquet\")\n",
    "\n",
    "print(\"Os dados foram salvos com sucesso como arquivo Parquet.\")"
   ]
  },
  {
   "cell_type": "code",
   "execution_count": null,
   "id": "ee499588-2629-4874-8e56-74cb3dada459",
   "metadata": {},
   "outputs": [],
   "source": []
  },
  {
   "cell_type": "code",
   "execution_count": null,
   "id": "9574abef-6d66-4732-ac92-c496cfef229e",
   "metadata": {},
   "outputs": [],
   "source": [
    "# INFO FILMES_vOTOS"
   ]
  },
  {
   "cell_type": "code",
   "execution_count": 30,
   "id": "e4962981-df60-42ed-b4ab-986764ffa28c",
   "metadata": {},
   "outputs": [
    {
     "name": "stdout",
     "output_type": "stream",
     "text": [
      "root\n",
      " |-- id_filme: string (nullable = true)\n",
      " |-- avaliacao_media: string (nullable = true)\n",
      " |-- total_votos: string (nullable = true)\n",
      "\n",
      "+---------+---------------+-----------+\n",
      "| id_filme|avaliacao_media|total_votos|\n",
      "+---------+---------------+-----------+\n",
      "|tt0000001|            5.7|       2003|\n",
      "|tt0000002|            5.8|        269|\n",
      "|tt0000003|            6.5|       1898|\n",
      "|tt0000004|            5.5|        178|\n",
      "|tt0000005|            6.2|       2682|\n",
      "|tt0000006|            5.0|        183|\n",
      "|tt0000007|            5.4|        839|\n",
      "|tt0000008|            5.4|       2147|\n",
      "|tt0000009|            5.3|        207|\n",
      "|tt0000010|            6.9|       7331|\n",
      "+---------+---------------+-----------+\n",
      "only showing top 10 rows\n",
      "\n",
      "O DataFrame tem 3 colunas.\n",
      "O DataFrame tem 1363146 linhas (dados).\n"
     ]
    }
   ],
   "source": [
    "filmes_votos = spark.read.parquet(\"file:/home/hadoop/imdb/parquet/filmes_votos/2023/11/01/*.parquet\")\n",
    "filmes_votos.printSchema()\n",
    "filmes_votos.show(10)\n",
    "contagem_de_dados = filmes_votos.count()\n",
    "contagem_de_colunas = len(filmes_votos.columns)\n",
    "\n",
    "# contagem de colunas\n",
    "print(f\"O DataFrame tem {contagem_de_colunas} colunas.\")\n",
    "\n",
    "# contagem de linhas\n",
    "print(f\"O DataFrame tem {contagem_de_dados} linhas (dados).\")"
   ]
  },
  {
   "cell_type": "code",
   "execution_count": null,
   "id": "e9fc9ffd-16da-4ee6-bfe0-ed701a01bd94",
   "metadata": {},
   "outputs": [],
   "source": []
  },
  {
   "cell_type": "code",
   "execution_count": null,
   "id": "f4c8676e-59f2-45b8-8f8b-1af53d8d7cff",
   "metadata": {},
   "outputs": [],
   "source": [
    "# join com fatos fillmes"
   ]
  },
  {
   "cell_type": "code",
   "execution_count": null,
   "id": "70a12245-569a-4928-bc86-14d25360cf0d",
   "metadata": {},
   "outputs": [],
   "source": []
  },
  {
   "cell_type": "code",
   "execution_count": 31,
   "id": "b5a47520-b998-4daf-8153-899854d6aaf7",
   "metadata": {},
   "outputs": [
    {
     "name": "stdout",
     "output_type": "stream",
     "text": [
      "O DataFrame tem 5 colunas.\n",
      "O DataFrame tem 49 linhas (dados).\n",
      "+---------+---------+--------------------+---------------+-----------+\n",
      "| id_filme|  id_nome|              titulo|avaliacao_media|total_votos|\n",
      "+---------+---------+--------------------+---------------+-----------+\n",
      "|tt0063803|nm1058895|Who's That Knocki...|            6.6|       9794|\n",
      "|tt0063803|nm0000217|Who's That Knocki...|            6.6|       9794|\n",
      "|tt0068309|nm0181019|       Boxcar Bertha|            6.0|      10493|\n",
      "|tt0068309|nm0181020|       Boxcar Bertha|            6.0|      10493|\n",
      "|tt0068309|nm0718639|       Boxcar Bertha|            6.0|      10493|\n",
      "|tt0070379|nm0552731|        Mean Streets|            7.2|     116098|\n",
      "|tt0070379|nm0000217|        Mean Streets|            7.2|     116098|\n",
      "|tt0071115|nm0315205|Alice Doesn't Liv...|            7.3|      26062|\n",
      "|tt0075314|nm0001707|         Taxi Driver|            8.2|     890607|\n",
      "|tt0076451|nm0552731|  New York, New York|            6.6|      21337|\n",
      "|tt0076451|nm0711996|  New York, New York|            6.6|      21337|\n",
      "|tt0081398|nm0552731|         Raging Bull|            8.1|     370832|\n",
      "|tt0081398|nm0001707|         Raging Bull|            8.1|     370832|\n",
      "|tt0081398|nm0678014|         Raging Bull|            8.1|     370832|\n",
      "|tt0081398|nm0141734|         Raging Bull|            8.1|     370832|\n",
      "|tt0081398|nm0483766|         Raging Bull|            8.1|     370832|\n",
      "|tt0085794|nm0956857|  The King of Comedy|            7.8|     113930|\n",
      "|tt0088680|nm0591387|         After Hours|            7.6|      77052|\n",
      "|tt0090863|nm0697115|  The Color of Money|            7.0|      90916|\n",
      "|tt0090863|nm0856677|  The Color of Money|            7.0|      90916|\n",
      "+---------+---------+--------------------+---------------+-----------+\n",
      "only showing top 20 rows\n",
      "\n"
     ]
    }
   ],
   "source": [
    "filmes_votos.createOrReplaceTempView(\"dim_popularidade\")\n",
    "\n",
    "dim_votos_sql = \"\"\"\n",
    "SELECT\n",
    "    f.id_filme,\n",
    "    f.id_nome,\n",
    "    f.titulo,\n",
    "    de.avaliacao_media,\n",
    "    de.total_votos\n",
    "    \n",
    "FROM\n",
    "    fato_filmes f\n",
    "JOIN\n",
    "    dim_popularidade de\n",
    "ON\n",
    "    f.id_filme = de.id_filme\n",
    "\"\"\"\n",
    "\n",
    "dim_popularidade = spark.sql(dim_votos_sql)\n",
    "\n",
    "contagem_de_dados = dim_popularidade.count()\n",
    "contagem_de_colunas = len(dim_popularidade.columns)\n",
    "\n",
    "# contagem de colunas\n",
    "print(f\"O DataFrame tem {contagem_de_colunas} colunas.\")\n",
    "\n",
    "# contagem de linhas\n",
    "print(f\"O DataFrame tem {contagem_de_dados} linhas (dados).\")\n",
    "\n",
    "dim_popularidade.show()"
   ]
  },
  {
   "cell_type": "code",
   "execution_count": null,
   "id": "54ff1abe-6ad9-4dd5-af33-43d15e4a792e",
   "metadata": {},
   "outputs": [],
   "source": []
  },
  {
   "cell_type": "code",
   "execution_count": null,
   "id": "559106ec-16a5-42f0-94bc-316e12824723",
   "metadata": {},
   "outputs": [],
   "source": [
    "# exportando"
   ]
  },
  {
   "cell_type": "markdown",
   "id": "379d0563-fb21-4c72-a770-aec746be2628",
   "metadata": {},
   "source": []
  },
  {
   "cell_type": "code",
   "execution_count": 32,
   "id": "ede603b9-c5d6-40ed-bff0-9e32c1a18059",
   "metadata": {},
   "outputs": [
    {
     "name": "stderr",
     "output_type": "stream",
     "text": [
      "[Stage 120:>                                                        (0 + 1) / 1]\r"
     ]
    },
    {
     "name": "stdout",
     "output_type": "stream",
     "text": [
      "Os dados foram salvos com sucesso como arquivo Parquet.\n"
     ]
    },
    {
     "name": "stderr",
     "output_type": "stream",
     "text": [
      "                                                                                \r"
     ]
    }
   ],
   "source": [
    "from datetime import datetime\n",
    "current_date = datetime.now().strftime(\"%Y/%m/%d\")\n",
    "\n",
    "# Definindo a variável do Output\n",
    "\n",
    "output_path = f\"file:/home/hadoop/imdb/refined/dim_popularidade\"\n",
    "\n",
    "# Salvar o DataFrame como um arquivo Parquet\n",
    "\n",
    "dim_popularidade.coalesce(1).write.saveAsTable(name=\"dim_popularidade\",mode=\"overwrite\",path=output_path,format=\"parquet\")\n",
    "\n",
    "print(\"Os dados foram salvos com sucesso como arquivo Parquet.\")"
   ]
  },
  {
   "cell_type": "code",
   "execution_count": null,
   "id": "6514ea16-81f6-4c11-9075-c4600e8a2841",
   "metadata": {},
   "outputs": [],
   "source": []
  },
  {
   "cell_type": "code",
   "execution_count": null,
   "id": "d55dd4fc-cf06-444c-b9d2-3ca318211b5e",
   "metadata": {},
   "outputs": [],
   "source": []
  }
 ],
 "metadata": {
  "kernelspec": {
   "display_name": "Python 3 (ipykernel)",
   "language": "python",
   "name": "python3"
  },
  "language_info": {
   "codemirror_mode": {
    "name": "ipython",
    "version": 3
   },
   "file_extension": ".py",
   "mimetype": "text/x-python",
   "name": "python",
   "nbconvert_exporter": "python",
   "pygments_lexer": "ipython3",
   "version": "3.10.12"
  }
 },
 "nbformat": 4,
 "nbformat_minor": 5
}
