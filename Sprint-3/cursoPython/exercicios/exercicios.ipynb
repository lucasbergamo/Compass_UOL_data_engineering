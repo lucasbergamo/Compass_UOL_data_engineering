{
 "cells": [
  {
   "cell_type": "code",
   "execution_count": 6,
   "id": "0099635a",
   "metadata": {},
   "outputs": [
    {
     "name": "stdout",
     "output_type": "stream",
     "text": [
      "Nome: lucas\n",
      "Idade: 22\n",
      "lucas completará 100 anos em 2101.\n"
     ]
    }
   ],
   "source": [
    "from datetime import date\n",
    "\n",
    "def completar100anos(idade):\n",
    "    ano_atual = date.today().year\n",
    "    ano100 = ano_atual + (100 - idade)\n",
    "    return ano100\n",
    "\n",
    "def main():\n",
    "    nome = input('Nome: ')\n",
    "    idade = int(input('Idade: '))\n",
    "\n",
    "    ano100 = completar100anos(idade)\n",
    "\n",
    "    print(f'{nome} completará 100 anos em {ano100}.')\n",
    "\n",
    "if __name__ == '__main__':\n",
    "    main()"
   ]
  },
  {
   "cell_type": "code",
   "execution_count": null,
   "id": "6a80f52b",
   "metadata": {},
   "outputs": [],
   "source": [
    "def par_ou_impar(numero):\n",
    "    if numero % 2 == 0:\n",
    "        return 'Par: {}'.format(numero)\n",
    "    else:\n",
    "        return 'Ímpar: {}'.format(numero)\n",
    "\n",
    "try:\n",
    "    numeros = []\n",
    "    for n in range(3):\n",
    "        num = int(input('Digite o {}º número: '.format(n+1)))\n",
    "        numeros.append(num)\n",
    "\n",
    "    for num in numeros:\n",
    "        resultado = par_ou_impar(num)\n",
    "        print(resultado)\n",
    "\n",
    "except ValueError:\n",
    "    print('digite apenas números inteiros.')"
   ]
  },
  {
   "cell_type": "code",
   "execution_count": null,
   "id": "0e5ab1b5",
   "metadata": {},
   "outputs": [],
   "source": [
    "for numero in range(0, 21, 2):\n",
    "    print(numero)"
   ]
  },
  {
   "cell_type": "code",
   "execution_count": null,
   "id": "4168c3e1",
   "metadata": {},
   "outputs": [],
   "source": [
    "def primos(number):\n",
    "    if number < 2:\n",
    "        return False\n",
    "    for n in range(2, int(number**0.5) + 1):\n",
    "        if number % n == 0:\n",
    "            return False\n",
    "    return True\n",
    "\n",
    "def primos_entre(start, end):\n",
    "    for number in range(start, end + 1):\n",
    "        if primos(number):\n",
    "            print(number, end=' ')\n",
    "\n",
    "primos_entre(1, 100)"
   ]
  },
  {
   "cell_type": "code",
   "execution_count": null,
   "id": "73b0b025",
   "metadata": {},
   "outputs": [],
   "source": [
    "dia, mes, ano = 22, 10, 2022\n",
    "\n",
    "print(f\"{dia}/{mes}/{ano}\")"
   ]
  },
  {
   "cell_type": "code",
   "execution_count": null,
   "id": "afad8500",
   "metadata": {},
   "outputs": [],
   "source": [
    "a = [1, 1, 2, 3, 5, 8, 14, 21, 34, 55, 89]\n",
    "b = [1, 2, 3, 4, 5, 6, 7, 8, 9, 10, 11, 12, 13, 14, 15]\n",
    "\n",
    "lista1 = set(a)\n",
    "lista2 = set(b)\n",
    "\n",
    "comum = lista1 & lista2\n",
    "\n",
    "lista_comum = list(comum)\n",
    "\n",
    "print(lista_comum)"
   ]
  },
  {
   "cell_type": "code",
   "execution_count": null,
   "id": "82b70bc0",
   "metadata": {},
   "outputs": [],
   "source": [
    "a = [1, 4, 9, 16, 25, 36, 49, 64, 81, 100]\n",
    "\n",
    "impares = [num for num in a if num % 2 != 0]\n",
    "\n",
    "print(impares)"
   ]
  },
  {
   "cell_type": "code",
   "execution_count": null,
   "id": "8f8cee06",
   "metadata": {},
   "outputs": [],
   "source": [
    "def palindromo(word):\n",
    "    return word == word[::-1]\n",
    "\n",
    "def main():\n",
    "    palavras = ['maça', 'arara', 'audio', 'radio', 'radar', 'moto']\n",
    "\n",
    "    for palavra in palavras:\n",
    "        if palindromo(palavra):\n",
    "            print(f'A palavra: {palavra} é um palíndromo')\n",
    "        else:\n",
    "            print(f'A palavra: {palavra} não é um palíndromo')\n",
    "\n",
    "if __name__ == '__main__':\n",
    "    main()"
   ]
  },
  {
   "cell_type": "code",
   "execution_count": null,
   "id": "56cad62a",
   "metadata": {},
   "outputs": [],
   "source": [
    "primeirosNomes = ['Joao', 'Douglas', 'Lucas', 'José']\n",
    "sobreNomes = ['Soares', 'Souza', 'Silveira', 'Pedreira']\n",
    "idades = [19, 28, 25, 31]\n",
    "\n",
    "def imprimir_dados():\n",
    "    for indice, (primeiroNome, sobreNome) in enumerate(zip(primeirosNomes, sobreNomes)):\n",
    "        idade = idades[indice]\n",
    "        print(f'{indice} - {primeiroNome} {sobreNome} está com {idade} anos')\n",
    "\n",
    "imprimir_dados()"
   ]
  },
  {
   "cell_type": "code",
   "execution_count": null,
   "id": "275533d2",
   "metadata": {},
   "outputs": [],
   "source": [
    "def remover_duplicados(lista):\n",
    "    lista_nova = list(set(lista))\n",
    "    return lista_nova\n",
    "\n",
    "lista_original = ['abc', 'abc', 'abc', '123', 'abc', '123', '123']\n",
    "lista_nova = remover_duplicados(lista_original)\n",
    "print(lista_nova)"
   ]
  },
  {
   "cell_type": "code",
   "execution_count": null,
   "id": "952fdbd5",
   "metadata": {},
   "outputs": [],
   "source": [
    "def ler_arquivo():\n",
    "    try:\n",
    "        with open('arquivo_texto.txt', 'r') as arquivo:\n",
    "            conteudo = arquivo.read()\n",
    "            print(conteudo)\n",
    "    except FileNotFoundError:\n",
    "        print('Arquivo não encontrado.')\n",
    "    except Exception as e:\n",
    "        print(f'Ocorreu um erro: {e}')\n",
    "\n",
    "if __name__ == '__main__':\n",
    "    ler_arquivo()"
   ]
  },
  {
   "cell_type": "code",
   "execution_count": null,
   "id": "860bbb24",
   "metadata": {},
   "outputs": [],
   "source": [
    "import json\n",
    "\n",
    "def arquivo_json():\n",
    "    try:\n",
    "        with open('person.json', 'r') as arquivo:\n",
    "            conteudo_json = json.load(arquivo)\n",
    "            print(json.dumps(conteudo_json, indent=4))\n",
    "    except FileNotFoundError:\n",
    "        print('Arquivo não encontrado.')\n",
    "    except json.JSONDecodeError:\n",
    "        print('Erro de parsing do JSON.')\n",
    "    except Exception as e:\n",
    "        print(f'Ocorreu um erro: {e}')\n",
    "\n",
    "if __name__ == '__main__':\n",
    "    arquivo_json()"
   ]
  },
  {
   "cell_type": "code",
   "execution_count": null,
   "id": "9f6ea622",
   "metadata": {},
   "outputs": [],
   "source": [
    "def my_map(list, f):\n",
    "    return [f(elemento) for elemento in list]\n",
    "\n",
    "def quadrado(n):\n",
    "    return n ** 2\n",
    "\n",
    "if __name__ == '__main__':\n",
    "    lista_original = [1, 2, 3, 4, 5, 6, 7, 8, 9, 10]\n",
    "    lista_quadrado = my_map(lista_original, quadrado)\n",
    "    print(lista_quadrado)"
   ]
  },
  {
   "cell_type": "code",
   "execution_count": null,
   "id": "d4c919f5",
   "metadata": {},
   "outputs": [],
   "source": [
    "def imprimir_parametros(*args, **kwargs):\n",
    "    print('Parâmetros não nomeados:')\n",
    "    for arg in args:\n",
    "        print(arg)\n",
    "\n",
    "    print(''\\nParâmetros nomeados:')\n",
    "    for key, value in kwargs.items():\n",
    "        print(f'{key}: {value}')\n",
    "\n",
    "if __name__ == '__main__':\n",
    "    imprimir_parametros(1, 3, 4, 'hello', parametro_nomeado='alguma coisa', x=20)"
   ]
  },
  {
   "cell_type": "code",
   "execution_count": null,
   "id": "dd06c3f5",
   "metadata": {},
   "outputs": [],
   "source": [
    "class Lampada:\n",
    "    def __init__(self, ligada=False):\n",
    "        self.ligada = ligada\n",
    "\n",
    "    def liga(self):\n",
    "        self.ligada = True\n",
    "\n",
    "    def desliga(self):\n",
    "        self.ligada = False\n",
    "\n",
    "    def esta_ligada(self):\n",
    "        return self.ligada\n",
    "\n",
    "if __name__ == \"__main__\":\n",
    "    lampada = Lampada()\n",
    "    lampada.liga()\n",
    "    print(\"A lâmpada está ligada?\", lampada.esta_ligada())\n",
    "    lampada.desliga()\n",
    "    print(\"A lâmpada ainda está ligada?\", lampada.esta_ligada())"
   ]
  },
  {
   "cell_type": "code",
   "execution_count": null,
   "id": "b36e8111",
   "metadata": {},
   "outputs": [],
   "source": [
    "def soma_numeros(string_numeros):\n",
    "    numeros = string_numeros.split(',')\n",
    "    soma = 0\n",
    "    for num in numeros:\n",
    "        soma += int(num)\n",
    "    return soma\n",
    "\n",
    "if __name__ == '__main__':\n",
    "    numeros_string = '1,3,4,6,10,76'\n",
    "    resultado = soma_numeros(numeros_string)\n",
    "    print(resultado)"
   ]
  },
  {
   "cell_type": "code",
   "execution_count": null,
   "id": "41fca96a",
   "metadata": {},
   "outputs": [],
   "source": [
    "def dividir_lista(lista):\n",
    "    tamanho = len(lista)\n",
    "    tamanho_parte = tamanho // 3\n",
    "\n",
    "    parte1 = lista[:tamanho_parte]\n",
    "    parte2 = lista[tamanho_parte:2*tamanho_parte]\n",
    "    parte3 = lista[2*tamanho_parte:]\n",
    "\n",
    "    return parte1, parte2, parte3\n",
    "\n",
    "if __name__ == '__main__':\n",
    "    lista = [1, 2, 3, 4, 5, 6, 7, 8, 9, 10, 11, 12]\n",
    "    parte1, parte2, parte3 = dividir_lista(lista)\n",
    "    print('Parte 1:', parte1)\n",
    "    print('Parte 2:', parte2)\n",
    "    print('Parte 3:', parte3)"
   ]
  },
  {
   "cell_type": "code",
   "execution_count": null,
   "id": "d23c6708",
   "metadata": {},
   "outputs": [],
   "source": [
    "speed = {'jan': 47, 'feb': 52, 'march': 47, 'April': 44, 'May': 52, 'June': 53, 'july': 54, 'Aug': 44, 'Sept': 54}\n",
    "\n",
    "valores = set(speed.values())\n",
    "\n",
    "lista_valores = list(valores)\n",
    "\n",
    "print(lista_valores)"
   ]
  },
  {
   "cell_type": "code",
   "execution_count": null,
   "id": "159a03ec",
   "metadata": {},
   "outputs": [],
   "source": [
    "import random\n",
    "\n",
    "random_list = random.sample(range(500), 50)\n",
    "\n",
    "random_list.sort()\n",
    "\n",
    "valor_minimo = min(random_list)\n",
    "\n",
    "valor_maximo = max(random_list)\n",
    "\n",
    "media = sum(random_list) / len(random_list)\n",
    "\n",
    "tamanho = len(random_list)\n",
    "if tamanho % 2 == 0:\n",
    "    mediana = (random_list[tamanho // 2 - 1] + random_list[tamanho // 2]) / 2\n",
    "else:\n",
    "    mediana = random_list[tamanho // 2]\n",
    "\n",
    "print('Valor Mínimo:', valor_minimo)\n",
    "print('Valor Máximo:', valor_maximo)\n",
    "print('Valor Médio:', media)\n",
    "print('Mediana:', mediana)"
   ]
  },
  {
   "cell_type": "code",
   "execution_count": null,
   "id": "282a09e1",
   "metadata": {},
   "outputs": [],
   "source": [
    "a = [1, 0, 2, 3, 5, 8, 13, 21, 34, 55, 89]\n",
    "\n",
    "print(a[::-1])"
   ]
  },
  {
   "cell_type": "code",
   "execution_count": null,
   "id": "956d21ab",
   "metadata": {},
   "outputs": [],
   "source": [
    "class Passaro:\n",
    "    def voar(self):\n",
    "        print('Voando...')\n",
    "\n",
    "    def emitir_som(self):\n",
    "        pass\n",
    "\n",
    "class Pato(Passaro):\n",
    "    def emitir_som(self):\n",
    "        print('Quack Quack')\n",
    "\n",
    "class Pardal(Passaro):\n",
    "    def emitir_som(self):\n",
    "        print('Piu Piu')\n",
    "\n",
    "if __name__ == '__main__':\n",
    "    pato = Pato()\n",
    "    print('Pato')\n",
    "    pato.voar()\n",
    "    print('Pato emitindo som...')\n",
    "    pato.emitir_som()\n",
    "\n",
    "    pardal = Pardal()\n",
    "    print('\\nPardal')\n",
    "    pardal.voar()\n",
    "    print('Pardal emitindo som...')\n",
    "    pardal.emitir_som()"
   ]
  },
  {
   "cell_type": "code",
   "execution_count": null,
   "id": "3467a664",
   "metadata": {},
   "outputs": [],
   "source": [
    "class Pessoa:\n",
    "    def __init__(self, identificador):\n",
    "        self.id = identificador\n",
    "        self.__nome = None\n",
    "\n",
    "    def set_nome(self, nome):\n",
    "        self.__nome = nome\n",
    "\n",
    "    def get_nome(self):\n",
    "        return self.__nome\n",
    "\n",
    "if __name__ == '__main__':\n",
    "    pessoa = Pessoa(0)\n",
    "    pessoa.set_nome('Fulano De Tal')\n",
    "    print(pessoa.get_nome())"
   ]
  },
  {
   "cell_type": "code",
   "execution_count": null,
   "id": "ec3242b6",
   "metadata": {},
   "outputs": [],
   "source": [
    "class Calculo:\n",
    "    def soma(self, x, y):\n",
    "        return x + y\n",
    "\n",
    "    def subtracao(self, x, y):\n",
    "        return x - y\n",
    "\n",
    "if __name__ == '__main__':\n",
    "    x = 4\n",
    "    y = 5\n",
    "\n",
    "    calc = Calculo()\n",
    "\n",
    "    resultado_soma = calc.soma(x, y)\n",
    "    print(f'Somando: {x}+{y} = {resultado_soma}')\n",
    "\n",
    "    resultado_subtracao = calc.subtracao(x, y)\n",
    "    print(f'Subtraindo: {x}-{y} = {resultado_subtracao}')"
   ]
  },
  {
   "cell_type": "code",
   "execution_count": null,
   "id": "2f95bef4",
   "metadata": {},
   "outputs": [],
   "source": [
    "class Ordenadora:\n",
    "    def __init__(self, listaBaguncada):\n",
    "        self.listaBaguncada = listaBaguncada\n",
    "\n",
    "    def ordenacaoCrescente(self):\n",
    "        return sorted(self.listaBaguncada)\n",
    "\n",
    "    def ordenacaoDecrescente(self):\n",
    "        return sorted(self.listaBaguncada, reverse=True)\n",
    "\n",
    "if __name__ == '__main__':\n",
    "    lista_crescente = [3, 4, 2, 1, 5]\n",
    "    crescente = Ordenadora(lista_crescente)\n",
    "    resultado_crescente = crescente.ordenacaoCrescente()\n",
    "    print(resultado_crescente)\n",
    "\n",
    "    lista_decrescente = [9, 7, 6, 8]\n",
    "    decrescente = Ordenadora(lista_decrescente)\n",
    "    resultado_decrescente = decrescente.ordenacaoDecrescente()\n",
    "    print(resultado_decrescente)"
   ]
  },
  {
   "cell_type": "code",
   "execution_count": null,
   "id": "c0758ac6",
   "metadata": {},
   "outputs": [],
   "source": [
    "class Aviao:\n",
    "    cor = 'Azul'\n",
    "\n",
    "    def __init__(self, modelo, velocidade_maxima, capacidade):\n",
    "        self.modelo = modelo\n",
    "        self.velocidade_maxima = velocidade_maxima\n",
    "        self.capacidade = capacidade\n",
    "\n",
    "if __name__ == '__main__':\n",
    "    lista_avioes = []\n",
    "\n",
    "    aviao1 = Aviao('BOIENG456', '1500 km/h', '400 passageiros')\n",
    "    lista_avioes.append(aviao1)\n",
    "\n",
    "    aviao2 = Aviao('Embraer Praetor 600', '863 km/h', '14 passageiros')\n",
    "    lista_avioes.append(aviao2)\n",
    "\n",
    "    aviao3 = Aviao('Antonov An-2', '258 km/h', '12 passageiros')\n",
    "    lista_avioes.append(aviao3)\n",
    "\n",
    "    for aviao in lista_avioes:\n",
    "        print(f'O avião de modelo {aviao.modelo} possui uma velocidade máxima de {aviao.velocidade_maxima}, capacidade para {aviao.capacidade} e é da cor {Avião.cor}.'')"
   ]
  },
  {
   "cell_type": "code",
   "execution_count": null,
   "id": "03ee3173",
   "metadata": {},
   "outputs": [],
   "source": []
  }
 ],
 "metadata": {
  "kernelspec": {
   "display_name": "Python 3 (ipykernel)",
   "language": "python",
   "name": "python3"
  },
  "language_info": {
   "codemirror_mode": {
    "name": "ipython",
    "version": 3
   },
   "file_extension": ".py",
   "mimetype": "text/x-python",
   "name": "python",
   "nbconvert_exporter": "python",
   "pygments_lexer": "ipython3",
   "version": "3.11.3"
  }
 },
 "nbformat": 4,
 "nbformat_minor": 5
}
